{
 "cells": [
  {
   "cell_type": "markdown",
   "metadata": {},
   "source": [
    "### Customer Segmentation\n"
   ]
  },
  {
   "cell_type": "markdown",
   "metadata": {},
   "source": [
    "\n",
    "### Project Overview: Customer Segmentation Using Clustering\n",
    "\n",
    "Clustering is a key unsupervised machine learning technique used to discover natural groupings within data, particularly when labels are unavailable. It plays a significant role across various scientific, engineering, and business domains, enabling deeper insights and data-driven decisions.\n",
    "\n",
    "This project focuses on customer segmentation for a shopping mall, leveraging clustering algorithms to analyze customer behavior and identify patterns. By segmenting customers into meaningful groups, businesses can tailor their marketing strategies, optimize customer engagement, and enhance profitability.\n",
    "\n",
    "---\n",
    "\n",
    "### Dataset Features and Descriptions\n",
    "\n",
    "Below are the features of the dataset, providing insights into customer credit card usage and payment behaviors:\n",
    "\n",
    "1. **CUST_ID**: Unique identifier for each credit card holder.  \n",
    "2. **BALANCE**: Monthly average balance, calculated as the daily average balance over the past 12 months.  \n",
    "3. **BALANCE_FREQUENCY**: Frequency of balance updates over the last 12 months (1 = Frequently updated, 0 = Not frequently updated).  \n",
    "4. **PURCHASES**: Total purchase amount spent by the customer in the last 12 months.  \n",
    "5. **ONEOFF_PURCHASES**: Total amount spent on one-off purchases.  \n",
    "6. **INSTALLMENTS_PURCHASES**: Total amount spent on installment-based purchases.  \n",
    "7. **CASH_ADVANCE**: Total amount withdrawn through cash advances.  \n",
    "8. **PURCHASES_FREQUENCY**: Frequency of purchases (1 = Frequent purchases, 0 = Rare purchases).  \n",
    "9. **ONEOFF_PURCHASES_FREQUENCY**: Frequency of one-off purchases (1 = Frequent, 0 = Rare).  \n",
    "10. **PURCHASES_INSTALLMENTS_FREQUENCY**: Frequency of installment-based purchases (1 = Frequent, 0 = Rare).  \n",
    "11. **CASHADVANCE_FREQUENCY**: Frequency of cash advances.  \n",
    "12. **CASH_ADVANCE_TRX**: Average amount per cash-advance transaction.  \n",
    "13. **PURCHASES_TRX**: Average amount per purchase transaction.  \n",
    "14. **CREDIT_LIMIT**: Credit limit assigned to the customer.  \n",
    "15. **PAYMENTS**: Total payments made by the customer to reduce their statement balance.  \n",
    "16. **MINIMUM_PAYMENTS**: Total minimum payments due during the period.  \n",
    "17. **PRC_FULL_PAYMENT**: Percentage of months in which the customer paid their full statement balance.  \n",
    "18. **TENURE**: Number of months the customer has held their credit card.  \n",
    "\n",
    "---\n",
    "\n",
    "### Objective and Value\n",
    "By applying clustering to this dataset, the project aims to group customers based on their credit card usage patterns. These insights can help businesses:  \n",
    "- **Personalize Offers**: Tailor marketing strategies to meet specific customer needs.  \n",
    "- **Enhance Retention**: Identify high-value customers and implement retention strategies.  \n",
    "- **Optimize Services**: Understand diverse customer behaviors to improve product offerings and financial services.  \n",
    "\n",
    "This project demonstrates how unsupervised learning algorithms, such as K-means clustering, can transform raw data into actionable business intelligence.\n",
    "\n"
   ]
  },
  {
   "cell_type": "code",
   "execution_count": 4,
   "metadata": {},
   "outputs": [],
   "source": [
    "# Data\n",
    "import pandas as pd\n",
    "import numpy as np\n",
    "from scipy import stats\n",
    "\n",
    "#Collections library for counting elements in a list\n",
    "#from collections import Counter\n",
    "\n",
    "#tqdm library for progress bars\n",
    "#from tqdm import tqdm\n",
    "\n",
    "# Visualization\n",
    "import matplotlib.pyplot as plt\n",
    "import seaborn as sns\n",
    "import plotly.express as px\n",
    "from plotly.subplots import make_subplots\n",
    "from termcolor import colored\n",
    "\n",
    "# Algorithms\n",
    "from sklearn.cluster import KMeans\n",
    "from sklearn.cluster import AgglomerativeClustering\n",
    "from sklearn.mixture import GaussianMixture\n",
    "from sklearn.cluster import MiniBatchKMeans\n",
    "from sklearn.cluster import DBSCAN\n",
    "from itertools import product\n",
    "from sklearn.neighbors import NearestNeighbors\n",
    "from sklearn.tree import DecisionTreeClassifier\n",
    "from sklearn.ensemble import RandomForestClassifier, AdaBoostClassifier, GradientBoostingClassifier\n",
    "\n",
    "\n",
    "# Train Test Split\n",
    "from sklearn.model_selection import train_test_split\n",
    "\n",
    "\n",
    "# scipy library for hierarchical clustering\n",
    "from scipy.cluster.hierarchy import ward, dendrogram, linkage\n",
    "from scipy.cluster import hierarchy\n",
    "\n",
    "\n",
    "\n",
    "\n",
    "\n",
    "# sklearn library\n",
    "from sklearn import metrics\n",
    "from sklearn.metrics import accuracy_score\n",
    "from sklearn.metrics import silhouette_score, calinski_harabasz_score\n",
    "\n",
    "# Scaling\n",
    "from sklearn.preprocessing import StandardScaler\n",
    "\n",
    "# Supress warnings\n",
    "import warnings\n",
    "warnings.filterwarnings('ignore')"
   ]
  },
  {
   "cell_type": "code",
   "execution_count": 5,
   "metadata": {},
   "outputs": [],
   "source": [
    "data = pd.read_csv('Customer_Data.csv')"
   ]
  },
  {
   "cell_type": "code",
   "execution_count": null,
   "metadata": {},
   "outputs": [],
   "source": []
  }
 ],
 "metadata": {
  "kernelspec": {
   "display_name": "Python 3",
   "language": "python",
   "name": "python3"
  },
  "language_info": {
   "codemirror_mode": {
    "name": "ipython",
    "version": 3
   },
   "file_extension": ".py",
   "mimetype": "text/x-python",
   "name": "python",
   "nbconvert_exporter": "python",
   "pygments_lexer": "ipython3",
   "version": "3.11.9"
  }
 },
 "nbformat": 4,
 "nbformat_minor": 2
}
